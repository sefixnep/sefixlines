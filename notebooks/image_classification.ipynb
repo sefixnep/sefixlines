{
 "cells": [
  {
   "cell_type": "code",
   "execution_count": null,
   "metadata": {
    "ExecuteTime": {
     "end_time": "2024-11-21T19:15:10.459513Z",
     "start_time": "2024-11-21T19:15:05.297753Z"
    }
   },
   "outputs": [],
   "source": [
    "%cd ../\n",
    "\n",
    "# Utils\n",
    "import os, sys\n",
    "import src.data\n",
    "import src.model"
   ]
  },
  {
   "cell_type": "markdown",
   "metadata": {},
   "source": [
    "## Set **seed**"
   ]
  },
  {
   "cell_type": "code",
   "execution_count": null,
   "metadata": {},
   "outputs": [],
   "source": [
    "src.data.set_all_seeds()"
   ]
  },
  {
   "cell_type": "markdown",
   "metadata": {},
   "source": [
    "## Data"
   ]
  },
  {
   "cell_type": "markdown",
   "metadata": {},
   "source": [
    "### **Initial**"
   ]
  },
  {
   "cell_type": "code",
   "execution_count": 5,
   "metadata": {},
   "outputs": [],
   "source": [
    "classes = []"
   ]
  },
  {
   "cell_type": "code",
   "execution_count": 7,
   "metadata": {},
   "outputs": [],
   "source": [
    "image_paths = []\n",
    "labels = []"
   ]
  },
  {
   "cell_type": "markdown",
   "metadata": {},
   "source": [
    "### **Split**"
   ]
  },
  {
   "cell_type": "code",
   "execution_count": 11,
   "metadata": {},
   "outputs": [],
   "source": [
    "from sklearn.model_selection import train_test_split\n",
    "\n",
    "train_image_paths, valid_image_paths, train_labels, valid_labels = train_test_split(image_paths, labels, test_size=0.2, random_state=42) # stratify=labels"
   ]
  },
  {
   "cell_type": "markdown",
   "metadata": {},
   "source": [
    "### **Augmentations**"
   ]
  },
  {
   "cell_type": "code",
   "execution_count": null,
   "metadata": {},
   "outputs": [],
   "source": [
    "import torchvision.transforms as T\n",
    "\n",
    "src.data.ImageClassificationDataset.augmentation = T.Compose([\n",
    "    # Добавьте своих аугментаций (по желанию)\n",
    "])"
   ]
  },
  {
   "cell_type": "markdown",
   "metadata": {},
   "source": [
    "### Create **Datasets**"
   ]
  },
  {
   "cell_type": "code",
   "execution_count": null,
   "metadata": {},
   "outputs": [],
   "source": [
    "dataset = src.data.ImageClassificationDataset(image_paths, labels)\n",
    "\n",
    "train_set = src.data.ImageClassificationDataset(train_image_paths, train_labels, True)\n",
    "valid_set = src.data.ImageClassificationDataset(valid_image_paths, valid_labels)"
   ]
  },
  {
   "cell_type": "markdown",
   "metadata": {},
   "source": [
    "### Create **DataLoader**"
   ]
  },
  {
   "cell_type": "code",
   "execution_count": 13,
   "metadata": {},
   "outputs": [],
   "source": [
    "from torch.utils.data import DataLoader\n",
    "\n",
    "batch_size = 32\n",
    "num_workers = 0 # ! Возникают ошибки\n",
    "\n",
    "train_loader = DataLoader(train_set, batch_size=batch_size, num_workers=num_workers, shuffle=True)\n",
    "valid_loader = DataLoader(valid_set, batch_size=batch_size, num_workers=num_workers, shuffle=False)"
   ]
  },
  {
   "cell_type": "markdown",
   "metadata": {},
   "source": [
    "### ***Visualization***"
   ]
  },
  {
   "cell_type": "code",
   "execution_count": null,
   "metadata": {},
   "outputs": [],
   "source": [
    "src.data.show_image_classification(dataset, classes=classes)"
   ]
  },
  {
   "cell_type": "markdown",
   "metadata": {},
   "source": [
    "## **Models**"
   ]
  },
  {
   "cell_type": "code",
   "execution_count": 15,
   "metadata": {},
   "outputs": [],
   "source": [
    "from torch import nn, optim\n",
    "from torchvision import models\n",
    "from transformers import AutoModelForImageClassification"
   ]
  },
  {
   "cell_type": "code",
   "execution_count": 18,
   "metadata": {},
   "outputs": [],
   "source": [
    "class CustomOutput(nn.Module):\n",
    "    def __init__(self, model, output_transform=lambda out: out.logits):\n",
    "        super().__init__()\n",
    "        self.model = model\n",
    "        self.output_transform = output_transform\n",
    "\n",
    "    def forward(self, *args, **kwargs):\n",
    "        return self.output_transform(self.model(*args, **kwargs))\n",
    "\n",
    "    def __getattr__(self, name):\n",
    "        if name in ('model', 'output_transform'):\n",
    "            return super().__getattr__(name)\n",
    "        return getattr(self.model, name)\n",
    "    \n",
    "    def __setattr__(self, name, value):\n",
    "        if name in ('model', 'output_transform'):\n",
    "            super().__setattr__(name, value)\n",
    "        else:\n",
    "            setattr(self.model, name, value)"
   ]
  },
  {
   "cell_type": "markdown",
   "metadata": {},
   "source": [
    "### *Score*"
   ]
  },
  {
   "cell_type": "code",
   "execution_count": 19,
   "metadata": {},
   "outputs": [],
   "source": [
    "scores = dict()"
   ]
  },
  {
   "cell_type": "markdown",
   "metadata": {},
   "source": [
    "### **Model**: `EfficientNet_B0`"
   ]
  },
  {
   "cell_type": "code",
   "execution_count": null,
   "metadata": {},
   "outputs": [],
   "source": [
    "model_image_size = (224, 224)\n",
    "src.data.ImageClassificationDataset.change_image_size(model_image_size)"
   ]
  },
  {
   "cell_type": "code",
   "execution_count": null,
   "metadata": {},
   "outputs": [],
   "source": [
    "model = models.efficientnet_b0(weights=models.EfficientNet_B0_Weights.IMAGENET1K_V1)\n",
    "model.classifier[-1] = nn.Linear(model.classifier[-1].in_features, len(classes))\n",
    "\n",
    "model_wrapped = src.model.Classifier(model, \"EfficientNet_B0\")"
   ]
  },
  {
   "cell_type": "code",
   "execution_count": null,
   "metadata": {},
   "outputs": [],
   "source": [
    "model_wrapped.fit(train_loader, valid_loader, 3)"
   ]
  },
  {
   "cell_type": "code",
   "execution_count": null,
   "metadata": {},
   "outputs": [],
   "source": [
    "scores[model_wrapped.best_score] = model_wrapped"
   ]
  },
  {
   "cell_type": "markdown",
   "metadata": {},
   "source": [
    "### **Model**: `google/vit-base-patch16-224`"
   ]
  },
  {
   "cell_type": "code",
   "execution_count": null,
   "metadata": {},
   "outputs": [],
   "source": [
    "model_image_size = (224, 224)\n",
    "src.data.ImageClassificationDataset.change_image_size(model_image_size)"
   ]
  },
  {
   "cell_type": "code",
   "execution_count": null,
   "metadata": {},
   "outputs": [],
   "source": [
    "model = CustomOutput(AutoModelForImageClassification.from_pretrained(\"google/vit-base-patch16-224\", num_labels=len(classes), ignore_mismatched_sizes=True))\n",
    "optimizer = optim.Adam(model.parameters(), lr=5e-5)\n",
    "\n",
    "model_wrapped = src.model.Classifier(model, \"Google-VitBase\", optimizer)"
   ]
  },
  {
   "cell_type": "code",
   "execution_count": null,
   "metadata": {},
   "outputs": [],
   "source": [
    "model_wrapped.fit(train_loader, valid_loader, 3)"
   ]
  },
  {
   "cell_type": "code",
   "execution_count": null,
   "metadata": {},
   "outputs": [],
   "source": [
    "scores[model_wrapped.best_score] = model_wrapped"
   ]
  },
  {
   "cell_type": "markdown",
   "metadata": {},
   "source": [
    "## Result"
   ]
  },
  {
   "cell_type": "code",
   "execution_count": null,
   "metadata": {},
   "outputs": [],
   "source": [
    "best_model_wrapped = scores[max(scores)]\n",
    "best_model_wrapped.name"
   ]
  },
  {
   "cell_type": "code",
   "execution_count": null,
   "metadata": {},
   "outputs": [],
   "source": [
    "import random\n",
    "import numpy as np\n",
    "import matplotlib.pyplot as plt\n",
    "\n",
    "n = (2, 4)  # Кортеж (rows, cols)\n",
    "fig_image_size = 5\n",
    "\n",
    "fig, axes = plt.subplots(n[0], n[1], figsize=(fig_image_size * n[1], fig_image_size * n[0]))\n",
    "\n",
    "for i in range(n[0]):\n",
    "    for j in range(n[1]):\n",
    "        idx = random.randrange(len(valid_set))\n",
    "        batch = valid_set[idx]\n",
    "        image = valid_set.get_item(idx)['image'].resize((512, 512))\n",
    "        prediction = best_model_wrapped.predict(batch)\n",
    "\n",
    "        ax = axes[i][j]\n",
    "        ax.imshow(np.array(image))\n",
    "        ax.axis('off')\n",
    "        ax.set_title(f\"Class: {classes[batch['labels']]}\\nPredict: {classes[prediction]}\", fontsize=10)\n",
    "\n",
    "plt.tight_layout()\n",
    "plt.show()"
   ]
  },
  {
   "cell_type": "markdown",
   "metadata": {},
   "source": [
    "## Submission"
   ]
  },
  {
   "cell_type": "code",
   "execution_count": null,
   "metadata": {},
   "outputs": [],
   "source": [
    "test_dir = \"\"\n",
    "\n",
    "test_image_names = os.listdir(test_dir)\n",
    "test_image_paths = [f\"{test_dir}/{image_name}\" for image_name in test_image_names]\n",
    "test_set = src.data.ImageClassificationDataset(test_image_paths)"
   ]
  },
  {
   "cell_type": "code",
   "execution_count": null,
   "metadata": {},
   "outputs": [],
   "source": [
    "predict_class_id = best_model_wrapped.predict(test_set)\n",
    "predict_class_names = [classes[class_id] for class_id in predict_class_id]"
   ]
  }
 ],
 "metadata": {
  "kernelspec": {
   "display_name": "Python 3",
   "language": "python",
   "name": "python3"
  },
  "language_info": {
   "codemirror_mode": {
    "name": "ipython",
    "version": 3
   },
   "file_extension": ".py",
   "mimetype": "text/x-python",
   "name": "python",
   "nbconvert_exporter": "python",
   "pygments_lexer": "ipython3",
   "version": "3.11.9"
  }
 },
 "nbformat": 4,
 "nbformat_minor": 2
}
